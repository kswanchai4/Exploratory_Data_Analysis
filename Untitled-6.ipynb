{
 "cells": [
  {
   "cell_type": "code",
   "execution_count": 3,
   "metadata": {},
   "outputs": [],
   "source": [
    "import pandas as pd\n",
    "import numpy as np\n",
    "\n",
    "from sklearn import datasets\n",
    "from sklearn.model_selection import train_test_split\n",
    "from sklearn.naive_bayes import GaussianNB\n",
    "from sklearn.metrics import confusion_matrix,accuracy_score"
   ]
  },
  {
   "cell_type": "markdown",
   "metadata": {},
   "source": [
    "## Naïve Bayes-1"
   ]
  },
  {
   "cell_type": "code",
   "execution_count": 4,
   "metadata": {},
   "outputs": [],
   "source": [
    "# Load dataset\n",
    "iris = datasets.load_iris()"
   ]
  },
  {
   "cell_type": "code",
   "execution_count": 5,
   "metadata": {},
   "outputs": [],
   "source": [
    "df = pd.DataFrame(iris.data)\n",
    "df.columns = iris.feature_names\n",
    "df['type'] = iris.target"
   ]
  },
  {
   "cell_type": "code",
   "execution_count": 6,
   "metadata": {},
   "outputs": [
    {
     "data": {
      "text/html": [
       "<div>\n",
       "<style scoped>\n",
       "    .dataframe tbody tr th:only-of-type {\n",
       "        vertical-align: middle;\n",
       "    }\n",
       "\n",
       "    .dataframe tbody tr th {\n",
       "        vertical-align: top;\n",
       "    }\n",
       "\n",
       "    .dataframe thead th {\n",
       "        text-align: right;\n",
       "    }\n",
       "</style>\n",
       "<table border=\"1\" class=\"dataframe\">\n",
       "  <thead>\n",
       "    <tr style=\"text-align: right;\">\n",
       "      <th></th>\n",
       "      <th>sepal length (cm)</th>\n",
       "      <th>sepal width (cm)</th>\n",
       "      <th>petal length (cm)</th>\n",
       "      <th>petal width (cm)</th>\n",
       "      <th>type</th>\n",
       "    </tr>\n",
       "  </thead>\n",
       "  <tbody>\n",
       "    <tr>\n",
       "      <th>0</th>\n",
       "      <td>5.1</td>\n",
       "      <td>3.5</td>\n",
       "      <td>1.4</td>\n",
       "      <td>0.2</td>\n",
       "      <td>0</td>\n",
       "    </tr>\n",
       "    <tr>\n",
       "      <th>1</th>\n",
       "      <td>4.9</td>\n",
       "      <td>3.0</td>\n",
       "      <td>1.4</td>\n",
       "      <td>0.2</td>\n",
       "      <td>0</td>\n",
       "    </tr>\n",
       "    <tr>\n",
       "      <th>2</th>\n",
       "      <td>4.7</td>\n",
       "      <td>3.2</td>\n",
       "      <td>1.3</td>\n",
       "      <td>0.2</td>\n",
       "      <td>0</td>\n",
       "    </tr>\n",
       "    <tr>\n",
       "      <th>3</th>\n",
       "      <td>4.6</td>\n",
       "      <td>3.1</td>\n",
       "      <td>1.5</td>\n",
       "      <td>0.2</td>\n",
       "      <td>0</td>\n",
       "    </tr>\n",
       "    <tr>\n",
       "      <th>4</th>\n",
       "      <td>5.0</td>\n",
       "      <td>3.6</td>\n",
       "      <td>1.4</td>\n",
       "      <td>0.2</td>\n",
       "      <td>0</td>\n",
       "    </tr>\n",
       "  </tbody>\n",
       "</table>\n",
       "</div>"
      ],
      "text/plain": [
       "   sepal length (cm)  sepal width (cm)  petal length (cm)  petal width (cm)  \\\n",
       "0                5.1               3.5                1.4               0.2   \n",
       "1                4.9               3.0                1.4               0.2   \n",
       "2                4.7               3.2                1.3               0.2   \n",
       "3                4.6               3.1                1.5               0.2   \n",
       "4                5.0               3.6                1.4               0.2   \n",
       "\n",
       "   type  \n",
       "0     0  \n",
       "1     0  \n",
       "2     0  \n",
       "3     0  \n",
       "4     0  "
      ]
     },
     "execution_count": 6,
     "metadata": {},
     "output_type": "execute_result"
    }
   ],
   "source": [
    "df.head(5)"
   ]
  },
  {
   "cell_type": "code",
   "execution_count": 7,
   "metadata": {},
   "outputs": [],
   "source": [
    "X_train, X_test, y_train, y_test = train_test_split(df.iloc[:,:-1],df.iloc[:,-1], test_size= 0.3)"
   ]
  },
  {
   "cell_type": "code",
   "execution_count": 8,
   "metadata": {},
   "outputs": [],
   "source": [
    "nb = GaussianNB()"
   ]
  },
  {
   "cell_type": "code",
   "execution_count": 9,
   "metadata": {},
   "outputs": [
    {
     "data": {
      "text/plain": [
       "GaussianNB()"
      ]
     },
     "execution_count": 9,
     "metadata": {},
     "output_type": "execute_result"
    }
   ],
   "source": [
    "nb.fit(X_train, y_train)"
   ]
  },
  {
   "cell_type": "code",
   "execution_count": 10,
   "metadata": {},
   "outputs": [],
   "source": [
    "y_pred = nb.predict(X_test)"
   ]
  },
  {
   "cell_type": "code",
   "execution_count": 11,
   "metadata": {},
   "outputs": [
    {
     "data": {
      "text/plain": [
       "array([[-3.40566570e+02, -1.30183879e-01, -2.10319325e+00],\n",
       "       [-1.00390807e-11, -2.53245578e+01, -5.14862102e+01],\n",
       "       [-1.78202495e+02, -3.30053129e-06, -1.26214288e+01],\n",
       "       [-2.22044605e-16, -3.60924688e+01, -6.76143903e+01],\n",
       "       [-5.70654635e-13, -2.81917468e+01, -5.27722465e+01],\n",
       "       [-7.49998852e+02, -1.72085487e+01, -3.36064225e-08],\n",
       "       [-2.22044605e-16, -3.58153554e+01, -6.21021545e+01],\n",
       "       [ 0.00000000e+00, -4.16649149e+01, -6.67541534e+01],\n",
       "       [-3.34550632e+02, -1.35056390e-02, -4.31139320e+00],\n",
       "       [-2.35283978e+02, -9.45459560e-05, -9.26647181e+00],\n",
       "       [-3.10114653e+02, -1.32476467e-02, -4.33055186e+00],\n",
       "       [-1.13100418e-09, -2.06001599e+01, -4.87778637e+01],\n",
       "       [-7.99360578e-15, -3.24683358e+01, -6.17111787e+01],\n",
       "       [-2.22645242e+02, -1.04655074e-05, -1.14674310e+01],\n",
       "       [-4.93450603e+02, -2.71263108e+00, -6.86664672e-02],\n",
       "       [-4.44089210e-16, -3.52006143e+01, -6.39712928e+01],\n",
       "       [-3.10648901e+02, -2.27066682e-02, -3.79642850e+00],\n",
       "       [-2.22044605e-16, -3.64360733e+01, -6.85850907e+01],\n",
       "       [-4.78629105e+02, -2.90125410e+00, -5.65219493e-02],\n",
       "       [-5.21804822e-14, -3.05825532e+01, -5.97749766e+01],\n",
       "       [-9.27120421e+02, -1.68699809e+01, -4.71476858e-08],\n",
       "       [-5.77861302e+02, -1.15541488e+01, -9.59619370e-06],\n",
       "       [-2.45353722e+02, -9.08124638e-05, -9.30675942e+00],\n",
       "       [-9.12713954e+02, -1.83312218e+01, -1.09358247e-08],\n",
       "       [-3.36161381e+02, -3.46704776e-03, -5.66618486e+00],\n",
       "       [-5.36480494e+02, -7.16802035e+00, -7.71144481e-04],\n",
       "       [-3.51013268e+02, -2.98476819e-03, -5.81572521e+00],\n",
       "       [-2.44613219e-10, -2.21313413e+01, -4.68841061e+01],\n",
       "       [ 0.00000000e+00, -3.68834872e+01, -7.08715803e+01],\n",
       "       [-2.22044605e-16, -3.57672887e+01, -6.63930316e+01],\n",
       "       [-3.99680289e-15, -3.31451875e+01, -6.30169763e+01],\n",
       "       [-2.22044605e-16, -3.58676325e+01, -6.28432229e+01],\n",
       "       [-2.19602114e-13, -2.91468068e+01, -5.54611524e+01],\n",
       "       [-3.38843330e+02, -2.57719172e-03, -5.96234327e+00],\n",
       "       [-2.51912571e+02, -1.00173799e-04, -9.20865398e+00],\n",
       "       [-5.92367345e+02, -5.53156664e+00, -3.96764137e-03],\n",
       "       [-4.44089210e-16, -3.53892979e+01, -6.21393625e+01],\n",
       "       [-2.32298674e+02, -1.12371160e-05, -1.13962939e+01],\n",
       "       [-4.93450603e+02, -2.71263108e+00, -6.86664672e-02],\n",
       "       [-1.03638988e+03, -2.24105115e+01, -1.85028881e-10],\n",
       "       [-4.44089210e-16, -3.52766252e+01, -6.50701498e+01],\n",
       "       [-7.04576885e+02, -1.35325292e+01, -1.32708137e-06],\n",
       "       [-5.15212969e+02, -7.23853034e+00, -7.18624887e-04],\n",
       "       [-4.44089210e-16, -3.55207642e+01, -6.71694311e+01],\n",
       "       [-2.68673972e-14, -3.12489090e+01, -5.93572420e+01]])"
      ]
     },
     "execution_count": 11,
     "metadata": {},
     "output_type": "execute_result"
    }
   ],
   "source": [
    "nb.predict_log_proba(X_test)"
   ]
  },
  {
   "cell_type": "code",
   "execution_count": 12,
   "metadata": {},
   "outputs": [
    {
     "data": {
      "text/plain": [
       "array([1, 0, 1, 0, 0, 2, 0, 0, 1, 1, 1, 0, 0, 1, 2, 0, 1, 0, 2, 0, 2, 2,\n",
       "       1, 2, 1, 2, 1, 0, 0, 0, 0, 0, 0, 1, 1, 2, 0, 1, 2, 2, 0, 2, 2, 0,\n",
       "       0])"
      ]
     },
     "execution_count": 12,
     "metadata": {},
     "output_type": "execute_result"
    }
   ],
   "source": [
    "y_pred"
   ]
  },
  {
   "cell_type": "code",
   "execution_count": 13,
   "metadata": {},
   "outputs": [
    {
     "data": {
      "text/plain": [
       "array([[20,  0,  0],\n",
       "       [ 0, 12,  0],\n",
       "       [ 0,  1, 12]], dtype=int64)"
      ]
     },
     "execution_count": 13,
     "metadata": {},
     "output_type": "execute_result"
    }
   ],
   "source": [
    "confusion_matrix(y_test, y_pred)"
   ]
  },
  {
   "cell_type": "code",
   "execution_count": 14,
   "metadata": {},
   "outputs": [
    {
     "data": {
      "text/plain": [
       "0.9777777777777777"
      ]
     },
     "execution_count": 14,
     "metadata": {},
     "output_type": "execute_result"
    }
   ],
   "source": [
    "accuracy_score(y_test, y_pred)"
   ]
  },
  {
   "cell_type": "code",
   "execution_count": null,
   "metadata": {},
   "outputs": [],
   "source": []
  }
 ],
 "metadata": {
  "interpreter": {
   "hash": "805c06767510c54b02f1168802ef16980e3b8ee72c73fd5a0dd1d31d7fe18338"
  },
  "kernelspec": {
   "display_name": "Python 3.10.0 64-bit",
   "language": "python",
   "name": "python3"
  },
  "language_info": {
   "codemirror_mode": {
    "name": "ipython",
    "version": 3
   },
   "file_extension": ".py",
   "mimetype": "text/x-python",
   "name": "python",
   "nbconvert_exporter": "python",
   "pygments_lexer": "ipython3",
   "version": "3.10.0"
  },
  "orig_nbformat": 4
 },
 "nbformat": 4,
 "nbformat_minor": 2
}
